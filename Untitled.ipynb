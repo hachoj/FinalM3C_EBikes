{
 "cells": [
  {
   "cell_type": "code",
   "execution_count": 1,
   "id": "f090f288",
   "metadata": {},
   "outputs": [],
   "source": [
    "import numpy as np\n",
    "import pandas as pd \n",
    "import matplotlib.pyplot as plt"
   ]
  },
  {
   "cell_type": "code",
   "execution_count": 2,
   "id": "c3b1e203",
   "metadata": {},
   "outputs": [],
   "source": [
    "data = pd.read_excel(r'~/Desktop/FinalM3C/FinalM3C_EBikes/US Disp Inc.xlsx')"
   ]
  },
  {
   "cell_type": "code",
   "execution_count": 4,
   "id": "48716ce8",
   "metadata": {},
   "outputs": [],
   "source": [
    "df = pd.DataFrame(data, columns=['Year', 'Per capita Disposable Personal Income in the United States, Chained 2012 US Dollars*'])"
   ]
  },
  {
   "cell_type": "code",
   "execution_count": 7,
   "id": "54fc09e0",
   "metadata": {},
   "outputs": [
    {
     "data": {
      "text/plain": [
       "Year                                                                                    int64\n",
       "Per capita Disposable Personal Income in the United States, Chained 2012 US Dollars*    int64\n",
       "dtype: object"
      ]
     },
     "execution_count": 7,
     "metadata": {},
     "output_type": "execute_result"
    }
   ],
   "source": [
    "df.dtypes"
   ]
  },
  {
   "cell_type": "code",
   "execution_count": null,
   "id": "91acf818",
   "metadata": {},
   "outputs": [],
   "source": []
  }
 ],
 "metadata": {
  "kernelspec": {
   "display_name": "Python 3 (ipykernel)",
   "language": "python",
   "name": "python3"
  },
  "language_info": {
   "codemirror_mode": {
    "name": "ipython",
    "version": 3
   },
   "file_extension": ".py",
   "mimetype": "text/x-python",
   "name": "python",
   "nbconvert_exporter": "python",
   "pygments_lexer": "ipython3",
   "version": "3.9.13"
  }
 },
 "nbformat": 4,
 "nbformat_minor": 5
}
