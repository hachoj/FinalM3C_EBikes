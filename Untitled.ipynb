{
 "cells": [
  {
   "cell_type": "code",
   "execution_count": 1,
   "id": "73afb986",
   "metadata": {},
   "outputs": [],
   "source": [
    "import numpy as np\n",
    "import pandas as pd \n",
    "from scipy.optimize import curve_fit\n",
    "import matplotlib.pyplot as plt"
   ]
  },
  {
   "cell_type": "code",
   "execution_count": 2,
   "id": "71ea5693",
   "metadata": {},
   "outputs": [],
   "source": [
    "data = pd.read_excel(r'~/Desktop/FinalM3C/TCP23_data.xlsx')"
   ]
  },
  {
   "cell_type": "code",
   "execution_count": 3,
   "id": "51b6b4ab",
   "metadata": {},
   "outputs": [],
   "source": [
    "df_us = pd.DataFrame(data, columns=['Year', 'E-Bikes sold in United States'])\n",
    "df_us = df_us[12:]\n",
    "df_us['E-Bikes sold in United States'] = pd.to_numeric(df_us['E-Bikes sold in United States'])"
   ]
  },
  {
   "cell_type": "code",
   "execution_count": 4,
   "id": "72ab9920",
   "metadata": {},
   "outputs": [],
   "source": [
    "x_us = df_us.loc[:,'Year']\n",
    "y_us = df_us.loc[:,'E-Bikes sold in United States']"
   ]
  },
  {
   "cell_type": "code",
   "execution_count": 5,
   "id": "32f175f0",
   "metadata": {},
   "outputs": [],
   "source": [
    "# w makes least squares regression\n",
    "y_us_log = np.log(y_us)\n",
    "curve_fit_us = np.polyfit(x_us, y_us_log, 1, w=np.sqrt(y_us_log))"
   ]
  },
  {
   "cell_type": "code",
   "execution_count": 6,
   "id": "195d0904",
   "metadata": {},
   "outputs": [],
   "source": [
    "df_eu = pd.DataFrame(data, columns=['Year', 'E-Bikes sold in Europe'])\n",
    "df_eu = df_eu[0:14]\n",
    "df_eu['E-Bikes sold in Europe'] = pd.to_numeric(df_eu['E-Bikes sold in Europe'])"
   ]
  },
  {
   "cell_type": "code",
   "execution_count": 7,
   "id": "460cb939",
   "metadata": {},
   "outputs": [],
   "source": [
    "# ax2 = df2.plot.scatter(x='Year',y='E-Bikes sold in Europe', c='DarkBlue')"
   ]
  },
  {
   "cell_type": "code",
   "execution_count": 8,
   "id": "43514d8d",
   "metadata": {},
   "outputs": [],
   "source": [
    "x_eu = df_eu.loc[:,'Year']\n",
    "y_eu = df_eu.loc[:,'E-Bikes sold in Europe']"
   ]
  },
  {
   "cell_type": "code",
   "execution_count": 9,
   "id": "4c4d406a",
   "metadata": {},
   "outputs": [],
   "source": [
    "# w makes least squares regression\n",
    "y_eu_log = np.log(y_eu)\n",
    "curve_fit_eu = np.polyfit(x_eu, y_eu_log, 1, w=np.sqrt(y_eu_log))"
   ]
  },
  {
   "cell_type": "code",
   "execution_count": 10,
   "id": "0fd60952",
   "metadata": {},
   "outputs": [],
   "source": [
    "df_france = pd.DataFrame(data, columns=['Year', 'E-Bikes sold in France'])\n",
    "df_france = df_france[2:14]\n",
    "df_france['E-Bikes sold in France'] = pd.to_numeric(df_france['E-Bikes sold in France'])"
   ]
  },
  {
   "cell_type": "code",
   "execution_count": 11,
   "id": "58277ab6",
   "metadata": {},
   "outputs": [],
   "source": [
    "x_france = df_france.loc[:,'Year']\n",
    "y_france = df_france.loc[:,'E-Bikes sold in France']"
   ]
  },
  {
   "cell_type": "code",
   "execution_count": 12,
   "id": "f1a13eca",
   "metadata": {},
   "outputs": [],
   "source": [
    "# w makes least squares regression\n",
    "y_france_log = np.log(y_france)\n",
    "curve_fit_france = np.polyfit(x_france, y_france_log, 1, w=np.sqrt(y_france_log))"
   ]
  },
  {
   "cell_type": "code",
   "execution_count": 13,
   "id": "dc0c36a0",
   "metadata": {},
   "outputs": [
    {
     "name": "stdout",
     "output_type": "stream",
     "text": [
      "The growth rate in US is 0.24439183727061303\n",
      "The growth rate in EU is 0.2344415400900098\n",
      "The growth rate in France is 0.29310222187025076\n"
     ]
    }
   ],
   "source": [
    "print(f'The growth rate in US is {curve_fit_us[0]}')\n",
    "print(f'The growth rate in EU is {curve_fit_eu[0]}')\n",
    "print(f'The growth rate in France is {curve_fit_france[0]}')"
   ]
  },
  {
   "cell_type": "code",
   "execution_count": 14,
   "id": "5d5a82cd",
   "metadata": {},
   "outputs": [
    {
     "data": {
      "text/plain": [
       "-487.3804800307884"
      ]
     },
     "execution_count": 14,
     "metadata": {},
     "output_type": "execute_result"
    }
   ],
   "source": [
    "curve_fit_us[1]"
   ]
  },
  {
   "cell_type": "code",
   "execution_count": null,
   "id": "e41371c8",
   "metadata": {},
   "outputs": [],
   "source": []
  }
 ],
 "metadata": {
  "kernelspec": {
   "display_name": "Python 3 (ipykernel)",
   "language": "python",
   "name": "python3"
  },
  "language_info": {
   "codemirror_mode": {
    "name": "ipython",
    "version": 3
   },
   "file_extension": ".py",
   "mimetype": "text/x-python",
   "name": "python",
   "nbconvert_exporter": "python",
   "pygments_lexer": "ipython3",
   "version": "3.9.13"
  }
 },
 "nbformat": 4,
 "nbformat_minor": 5
}
